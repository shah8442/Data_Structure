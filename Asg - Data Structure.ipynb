{
 "cells": [
  {
   "cell_type": "code",
   "execution_count": null,
   "id": "faae0b03-2c38-4af9-8b73-005a2cd71222",
   "metadata": {},
   "outputs": [],
   "source": [
    "# Why might you choose a deque from the collections module to implement a queue instead of using a regular python list?\n",
    "\n",
    " Ans:\n",
    "# Deque in Python allows you to add and remove elements from either end. Python’s collections module provides us with the deque class to create deques.They are different from queues and stacks as they support more flexible, memory-efficient, and faster."
   ]
  },
  {
   "cell_type": "code",
   "execution_count": null,
   "id": "f55c7d7d-0820-458c-acbf-bdd4dfefe3ba",
   "metadata": {},
   "outputs": [],
   "source": [
    "# Can you explain a real-world scenario where using a stack would be a more practical choice than a list for data storage and retrieval.\n",
    "\n",
    "#  Ans:\n",
    "# Imagine you are in a wedding ceremony, and you are ready to have food. You have seen a stack of plate. When some clean plates are added to the stack, it is put on top. When you choose a plate, you will prefer to removed plate from the top not from bottom. So it is called Last-In-First-Out (LIFO)"
   ]
  },
  {
   "cell_type": "code",
   "execution_count": 2,
   "id": "0bdc17ec-3345-4d6f-844f-032d2e1f272c",
   "metadata": {},
   "outputs": [],
   "source": [
    "# What is the primary advantage of using sets in Python, and in what type of problem-solving scenarios are they most useful?\n",
    "\n",
    "# Ans:\n",
    "# The major advantage of using a set is that 'Sets are used to store multiple items in a single variable'. We cannot change the items after the set has been created.\n",
    "\n",
    "# Python Sets Have Unique Elements\n",
    "# Elements in Python Sets Must Be Immutable\n",
    "# Python Sets Are Unordered\n",
    "# Finding Common Elements With Set\n",
    "# Using Python Sets to Get Unique Values in a Sequence.\n",
    "# Pythom sets to Find Values Based on Conditions.\n"
   ]
  },
  {
   "cell_type": "code",
   "execution_count": 3,
   "id": "1ebfdf50-f7fb-4a73-bfee-25738256718d",
   "metadata": {},
   "outputs": [],
   "source": [
    "# When might you choose to use an array instead of a list for storing numerical data in Python? What benefits do arrays offer in this context?\n",
    "\n",
    "# Ans: \n",
    "# We use arrays over lists in python as it requires less memory.\n",
    "# Arrays are faster than the list in python.\n",
    "# Arrays can directly handle arithmetic operations while lists cannot. So we use arrays over lists.\n",
    "# Arrays are preferred over lists for a longer sequence of data items."
   ]
  },
  {
   "cell_type": "code",
   "execution_count": null,
   "id": "4af0752a-51b5-4ba6-9ebc-1e6562864bb7",
   "metadata": {},
   "outputs": [],
   "source": [
    "# # In Python, what's the primary difference between dictionaries and lists, and how does this difference impact their use cases in programming\n",
    "\n",
    "\n",
    "# Ans:\n",
    "# Dictionary: Symbol is curly brackets {}, separated by a comma(,), pair separated by semi colon(:)\n",
    "# List: Symbol is square brackets [], separated by commas(,)\n",
    "\n",
    "# Dictionary: Data stored as key-value pairs\n",
    "# List: Collection of various elements like int, string, bool values etc.\n",
    "\n",
    "# Dictionary: We can access the elements using the keys\n",
    "# List: We can access the elements using the index value\n",
    "\n",
    "# Dictionary: Values are mutable, but keys are immutable.\n",
    "# List: Lists are mutable in nature\n",
    "\n",
    "# Dictionary: Sort() method sorts the keys in the dictionary by defaulthttps://drive.google.com/drive/folders/1wCzyX2oQUyuCfIvekiOZm0mKCdnoJxXv\n",
    "# List: Sort() method sorts the elements in ascending or descending order\n",
    "\n",
    "# Dictionary: Dictionary items cannot be reversed as they are the key-value pairs\n",
    "# List: Reverse() method reverse the list elements\n",
    "    \n"
   ]
  }
 ],
 "metadata": {
  "kernelspec": {
   "display_name": "Python 3 (ipykernel)",
   "language": "python",
   "name": "python3"
  },
  "language_info": {
   "codemirror_mode": {
    "name": "ipython",
    "version": 3
   },
   "file_extension": ".py",
   "mimetype": "text/x-python",
   "name": "python",
   "nbconvert_exporter": "python",
   "pygments_lexer": "ipython3",
   "version": "3.10.8"
  }
 },
 "nbformat": 4,
 "nbformat_minor": 5
}
