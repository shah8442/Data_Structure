{
 "cells": [
  {
   "cell_type": "code",
   "execution_count": 1,
   "id": "4bc6d3c5-ef2d-4af9-9882-3db556cad0c0",
   "metadata": {},
   "outputs": [
    {
     "name": "stdout",
     "output_type": "stream",
     "text": [
      "26\n"
     ]
    }
   ],
   "source": [
    "#Ques: What is the purpose of the len() function in Python, and how can it be used with strings?\n",
    "\n",
    "# Ans:\n",
    "# It returns the length of an object/variable. By using len(), we can find the length of strings and lists. \n",
    "\n",
    "# How to use len() using string.\n",
    "\n",
    "string = \"I am a student in pwskills\"\n",
    "\n",
    "print(len(string))\n",
    "\n",
    "# output: 26\n"
   ]
  },
  {
   "cell_type": "code",
   "execution_count": 5,
   "id": "90a81fc2-a07a-4997-97c1-32f5b9c15c9e",
   "metadata": {},
   "outputs": [
    {
     "data": {
      "text/plain": [
       "'My teacher is Ajay Sir'"
      ]
     },
     "execution_count": 5,
     "metadata": {},
     "output_type": "execute_result"
    }
   ],
   "source": [
    "#Ques: How can you concatenate two or more strings in Python, and can you provide an example of string concatenation\n",
    "\n",
    "# Ans: \n",
    "# String concatenation is the process of joining two or more strings together to form one single string.\n",
    "# We can use concatenate to join with below example.\n",
    "\n",
    "\n",
    "# Ex - 1\n",
    "a = \"My teacher is\"\n",
    "b = \" Ajay Sir\"\n",
    "\n",
    "a + b"
   ]
  },
  {
   "cell_type": "code",
   "execution_count": 8,
   "id": "c20c4b8c-3fb7-434e-832a-3e886d09718c",
   "metadata": {},
   "outputs": [
    {
     "name": "stdout",
     "output_type": "stream",
     "text": [
      "Hello Sir\n"
     ]
    }
   ],
   "source": [
    "# Ex - 2\n",
    "\n",
    "var1 = \"Hello \"\n",
    "var2 = \"Sir\"\n",
    " \n",
    "var3 = var1 + var2\n",
    "print(var3)"
   ]
  },
  {
   "cell_type": "code",
   "execution_count": 4,
   "id": "8ff3f048-eb96-4b4a-aa5f-90af3726406e",
   "metadata": {},
   "outputs": [
    {
     "data": {
      "text/plain": [
       "'t'"
      ]
     },
     "execution_count": 4,
     "metadata": {},
     "output_type": "execute_result"
    }
   ],
   "source": [
    "#Ques: What is string slicing in Python, and how can you extract a portion of a string using this method?\n",
    "\n",
    "#Ans:\n",
    "\n",
    "# String slicing is the process of taking out a part of a string. The characters in the extracted part may be continuous or they may be present at regular intervals in the original string.\n",
    "# We can create a slice from a string using indices of the characters(0,1,2,3,4...)\n",
    "\n",
    "String = \"pythonfordataanalysis\"\n",
    "String[0]\n",
    "\n",
    "\n"
   ]
  },
  {
   "cell_type": "code",
   "execution_count": 5,
   "id": "c04a2763-3dfe-4155-b36f-162797fa79fb",
   "metadata": {},
   "outputs": [
    {
     "data": {
      "text/plain": [
       "'t'"
      ]
     },
     "execution_count": 5,
     "metadata": {},
     "output_type": "execute_result"
    }
   ],
   "source": [
    "String = \"pythonfordataanalysis\"\n",
    "String[2]"
   ]
  },
  {
   "cell_type": "code",
   "execution_count": 6,
   "id": "f2ac0e10-d520-46dd-922d-909e2664af0e",
   "metadata": {},
   "outputs": [
    {
     "data": {
      "text/plain": [
       "'pytho'"
      ]
     },
     "execution_count": 6,
     "metadata": {},
     "output_type": "execute_result"
    }
   ],
   "source": [
    "String = \"pythonfordataanalysis\"\n",
    "String[0:5]"
   ]
  },
  {
   "cell_type": "code",
   "execution_count": 7,
   "id": "beb7b121-b04b-4e42-a13e-c1af8cf19c21",
   "metadata": {},
   "outputs": [
    {
     "data": {
      "text/plain": [
       "'pythonford'"
      ]
     },
     "execution_count": 7,
     "metadata": {},
     "output_type": "execute_result"
    }
   ],
   "source": [
    "String = \"pythonfordataanalysis\"\n",
    "String[0:10]"
   ]
  },
  {
   "cell_type": "code",
   "execution_count": 8,
   "id": "46406214-480b-462d-92f5-a07c19e712a7",
   "metadata": {},
   "outputs": [
    {
     "data": {
      "text/plain": [
       "'pythonford'"
      ]
     },
     "execution_count": 8,
     "metadata": {},
     "output_type": "execute_result"
    }
   ],
   "source": [
    "String = \"pythonfordataanalysis\"\n",
    "String[0:10:1]"
   ]
  },
  {
   "cell_type": "code",
   "execution_count": 9,
   "id": "8c2b3fcf-629f-4897-bcc4-7c8761c446c0",
   "metadata": {},
   "outputs": [
    {
     "data": {
      "text/plain": [
       "'ptofr'"
      ]
     },
     "execution_count": 9,
     "metadata": {},
     "output_type": "execute_result"
    }
   ],
   "source": [
    "String = \"pythonfordataanalysis\"\n",
    "String[0:10:2]"
   ]
  },
  {
   "cell_type": "code",
   "execution_count": 10,
   "id": "69fa1d56-d80b-4c53-83e3-71bd25dab100",
   "metadata": {},
   "outputs": [
    {
     "data": {
      "text/plain": [
       "'phfd'"
      ]
     },
     "execution_count": 10,
     "metadata": {},
     "output_type": "execute_result"
    }
   ],
   "source": [
    "String = \"pythonfordataanalysis\"\n",
    "String[0:10:3]"
   ]
  },
  {
   "cell_type": "code",
   "execution_count": 11,
   "id": "722afadd-4514-4ff5-a551-549f3eec3704",
   "metadata": {},
   "outputs": [
    {
     "name": "stdout",
     "output_type": "stream",
     "text": [
      "pWsKIllS\n"
     ]
    }
   ],
   "source": [
    "#Ques: How can you change the case of a string in Python, and can you provide examples of both making a string all uppercase and all lowercase?\n",
    "\n",
    "\n",
    "#Ans:\n",
    "# In Python, changing the case of characters in a string means converting uppercase letters to lowercase and lowercase letters to uppercase.\n",
    "# Ex - 1\n",
    "\n",
    "string = \"PwSkiLLs\"\n",
    "print(string.swapcase())\n",
    "\n",
    "# Output : pWsKIllS"
   ]
  },
  {
   "cell_type": "code",
   "execution_count": 12,
   "id": "09fac424-4445-4c7e-82a8-5098fe370a4b",
   "metadata": {},
   "outputs": [
    {
     "name": "stdout",
     "output_type": "stream",
     "text": [
      "PwSKIls\n"
     ]
    }
   ],
   "source": [
    "# Ex - 2\n",
    "\n",
    "\n",
    "string = \"pWskiLS\"\n",
    "print(string.swapcase())\n",
    "\n",
    "# Output : PwSKIls"
   ]
  },
  {
   "cell_type": "code",
   "execution_count": 13,
   "id": "20381662-c3b2-4aca-808e-013477a95464",
   "metadata": {},
   "outputs": [
    {
     "data": {
      "text/plain": [
       "'i AM NEW IN THIS CLASS'"
      ]
     },
     "execution_count": 13,
     "metadata": {},
     "output_type": "execute_result"
    }
   ],
   "source": [
    "# Ex - 3\n",
    "\n",
    "String = \"i am new in this class\"\n",
    "String.swapcase()\n"
   ]
  },
  {
   "cell_type": "code",
   "execution_count": 14,
   "id": "f58d9b71-5b0f-4155-91a1-cdd8a95131b0",
   "metadata": {},
   "outputs": [
    {
     "data": {
      "text/plain": [
       "'i am new to this class'"
      ]
     },
     "execution_count": 14,
     "metadata": {},
     "output_type": "execute_result"
    }
   ],
   "source": [
    "# Ex - 4\n",
    "\n",
    "String = \"I AM NEW TO THIS CLASS\"\n",
    "String.swapcase()\n"
   ]
  },
  {
   "cell_type": "code",
   "execution_count": 15,
   "id": "364987b1-39fa-4427-b53b-bc83cb46cb4a",
   "metadata": {},
   "outputs": [
    {
     "data": {
      "text/plain": [
       "'hello , world'"
      ]
     },
     "execution_count": 15,
     "metadata": {},
     "output_type": "execute_result"
    }
   ],
   "source": [
    "# Ex - 5\n",
    "\n",
    "text = \"HELLO , WORLD\"\n",
    "text.lower()"
   ]
  },
  {
   "cell_type": "code",
   "execution_count": 16,
   "id": "ee04a330-664f-4b94-bb84-5c4f3f4774ab",
   "metadata": {},
   "outputs": [
    {
     "data": {
      "text/plain": [
       "'HELLO , WORLD'"
      ]
     },
     "execution_count": 16,
     "metadata": {},
     "output_type": "execute_result"
    }
   ],
   "source": [
    "# Ex - 6\n",
    "\n",
    "text = \"hello , world\"\n",
    "text.upper()"
   ]
  },
  {
   "cell_type": "code",
   "execution_count": 24,
   "id": "5d87004a-7c21-468d-8139-7b9b1d2eff8b",
   "metadata": {},
   "outputs": [
    {
     "name": "stdout",
     "output_type": "stream",
     "text": [
      "['My', 'name', 'is', 'Shahbaz', 'I', 'am', 'from', 'Kolkata']\n"
     ]
    }
   ],
   "source": [
    "#Ques: What does the split() method do in Python, and how can you split a string using a specific delimiter.\n",
    "\n",
    "# Ans:\n",
    "# The split() method splits a string into a list. The split() method in Python is a string method used to split a string into a list of substrings based on a specified delimiter.\n",
    "\n",
    "\n",
    "# Ex - 1:\n",
    "## string splitting >> Return a list of the substrings in the string, using sep as the separator string.\n",
    "\n",
    "text = \"My name is Shahbaz I am from Kolkata\"\n",
    "\n",
    "a = text.split()\n",
    "\n",
    "print(a)"
   ]
  },
  {
   "cell_type": "code",
   "execution_count": null,
   "id": "1411fc86-9f56-4f53-a88a-718223206656",
   "metadata": {},
   "outputs": [],
   "source": []
  },
  {
   "cell_type": "code",
   "execution_count": 22,
   "id": "1d9f0873-b8e9-4905-9688-8eab6ebcdd10",
   "metadata": {},
   "outputs": [
    {
     "name": "stdout",
     "output_type": "stream",
     "text": [
      "['My name is Shahbaz', 'I am from Kolkata']\n"
     ]
    }
   ],
   "source": [
    "# Ex - 2\n",
    "text = \"My name is Shahbaz,I am from Kolkata\"\n",
    "\n",
    "a = text.split(\",\")\n",
    "\n",
    "print(a)"
   ]
  },
  {
   "cell_type": "code",
   "execution_count": 25,
   "id": "1367a790-d0e6-46e3-9ce0-69e31453bed6",
   "metadata": {},
   "outputs": [
    {
     "data": {
      "text/plain": [
       "'pwskills'"
      ]
     },
     "execution_count": 25,
     "metadata": {},
     "output_type": "execute_result"
    }
   ],
   "source": [
    "# Ex - 3\n",
    "\n",
    "# Strip funtion >> Return a copy of the string with leading and trailing whitespace removed.\n",
    "\n",
    "inpur_str = \"     pwskills     \"\n",
    "inpur_str.strip()\n",
    "\n"
   ]
  },
  {
   "cell_type": "code",
   "execution_count": 26,
   "id": "11525ed4-c26d-450b-8a7d-2d7a38cb0845",
   "metadata": {},
   "outputs": [
    {
     "data": {
      "text/plain": [
       "'Aaple'"
      ]
     },
     "execution_count": 26,
     "metadata": {},
     "output_type": "execute_result"
    }
   ],
   "source": [
    "# Ex - 4\n",
    "\n",
    "csv_row = \"Aaple        \"\n",
    "csv_row.strip()"
   ]
  },
  {
   "cell_type": "code",
   "execution_count": null,
   "id": "da18ddd2-239a-4490-a63d-80fc24f858cf",
   "metadata": {},
   "outputs": [],
   "source": []
  }
 ],
 "metadata": {
  "kernelspec": {
   "display_name": "Python 3 (ipykernel)",
   "language": "python",
   "name": "python3"
  },
  "language_info": {
   "codemirror_mode": {
    "name": "ipython",
    "version": 3
   },
   "file_extension": ".py",
   "mimetype": "text/x-python",
   "name": "python",
   "nbconvert_exporter": "python",
   "pygments_lexer": "ipython3",
   "version": "3.10.8"
  }
 },
 "nbformat": 4,
 "nbformat_minor": 5
}
